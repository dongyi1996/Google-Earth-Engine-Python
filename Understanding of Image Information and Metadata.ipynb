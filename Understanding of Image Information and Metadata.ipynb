{
 "cells": [
  {
   "cell_type": "code",
   "execution_count": 1,
   "metadata": {},
   "outputs": [],
   "source": [
    "import geemap as emap\n",
    "import ee\n",
    "\n",
    "try:\n",
    "    ee.Initialize()\n",
    "except:\n",
    "    ee.Authenticiate()\n",
    "    ee.Initialize()"
   ]
  },
  {
   "cell_type": "markdown",
   "metadata": {},
   "source": [
    "# 1. Display basemap"
   ]
  },
  {
   "cell_type": "code",
   "execution_count": 2,
   "metadata": {
    "scrolled": true
   },
   "outputs": [
    {
     "data": {
      "application/vnd.jupyter.widget-view+json": {
       "model_id": "20e6bb6c1bfc4be592fcf5dd53b73f9f",
       "version_major": 2,
       "version_minor": 0
      },
      "text/plain": [
       "Map(center=[40, -100], controls=(WidgetControl(options=['position'], widget=HBox(children=(ToggleButton(value=…"
      ]
     },
     "metadata": {},
     "output_type": "display_data"
    }
   ],
   "source": [
    "Map=emap.Map()\n",
    "Map"
   ]
  },
  {
   "cell_type": "markdown",
   "metadata": {},
   "source": [
    "# 2. Read Landsat 8"
   ]
  },
  {
   "cell_type": "code",
   "execution_count": 41,
   "metadata": {
    "scrolled": true
   },
   "outputs": [
    {
     "data": {
      "application/vnd.jupyter.widget-view+json": {
       "model_id": "20e6bb6c1bfc4be592fcf5dd53b73f9f",
       "version_major": 2,
       "version_minor": 0
      },
      "text/plain": [
       "Map(bottom=460036.0, center=[21.62136691005487, 825.5882263183595], controls=(WidgetControl(options=['position…"
      ]
     },
     "metadata": {},
     "output_type": "display_data"
    }
   ],
   "source": [
    "# Use dot points to select a point \n",
    "roi=ee.FeatureCollection(Map.draw_features)\n",
    "# Read Landsat 8 Level 1 TOA Reflectance \n",
    "LS=ee.ImageCollection(\"LANDSAT/LC08/C01/T1_TOA\").filterDate(\"2019-01-01\",\"2019-12-31\").filterBounds(roi)\n",
    "\n",
    "Map.addLayer(LS,{\"bands\":[\"B4\",\"B3\",\"B2\"],\"min\":0,\"max\":0.3},\"Landsat\")\n",
    "Map"
   ]
  },
  {
   "cell_type": "markdown",
   "metadata": {},
   "source": [
    "### 2.1. Examine the number of images in the collection"
   ]
  },
  {
   "cell_type": "code",
   "execution_count": 103,
   "metadata": {},
   "outputs": [
    {
     "name": "stdout",
     "output_type": "stream",
     "text": [
      "Total imagery is 18\n"
     ]
    }
   ],
   "source": [
    "# Get total number of images in the Collection\n",
    "num=LS.size()\n",
    "print(\"Total imagery is\" , num.getInfo())"
   ]
  },
  {
   "cell_type": "markdown",
   "metadata": {},
   "source": [
    "### 2.2. Investigate the property of each images"
   ]
  },
  {
   "cell_type": "code",
   "execution_count": 43,
   "metadata": {},
   "outputs": [
    {
     "name": "stdout",
     "output_type": "stream",
     "text": [
      "['system:visualization_0_min', 'type_name', 'visualization_1_bands', 'thumb', 'visualization_1_max', 'description', 'source_tags', 'visualization_1_name', 'system:id', 'visualization_0_max', 'title', 'visualization_0_gain', 'system:visualization_2_max', 'product_tags', 'visualization_1_gain', 'provider', 'visualization_1_min', 'system:visualization_2_name', 'visualization_0_min', 'system:version', 'system:visualization_1_bands', 'system:visualization_1_max', 'visualization_0_name', 'date_range', 'visualization_2_bands', 'visualization_2_name', 'period', 'system:visualization_2_min', 'system:visualization_0_bands', 'visualization_2_min', 'visualization_2_gain', 'provider_url', 'sample', 'system:visualization_1_name', 'tags', 'system:visualization_0_max', 'visualization_2_max', 'system:visualization_2_bands', 'system:visualization_1_min', 'system:visualization_0_name', 'visualization_0_bands']\n"
     ]
    }
   ],
   "source": [
    "print(LS.propertyNames().getInfo())"
   ]
  },
  {
   "cell_type": "code",
   "execution_count": 104,
   "metadata": {},
   "outputs": [
    {
     "name": "stdout",
     "output_type": "stream",
     "text": [
      "{'max': 68.61971282958984, 'mean': 57.92369185553657, 'min': 39.784873962402344, 'sample_sd': 10.148443525344575, 'sample_var': 102.99090598710823, 'sum': 1042.6264533996582, 'sum_sq': 62143.61880893361, 'total_count': 18, 'total_sd': 9.862514333973078, 'total_var': 97.26918898782444, 'valid_count': 18, 'weight_sum': 18, 'weighted_sum': 1042.6264533996582}\n"
     ]
    }
   ],
   "source": [
    "# Get stattistics of all images using Sun_elevation property \n",
    "print(LS.aggregate_stats(\"SUN_ELEVATION\").getInfo())"
   ]
  },
  {
   "cell_type": "markdown",
   "metadata": {},
   "source": [
    "## 2.3. Get least cloudy image cloud information"
   ]
  },
  {
   "cell_type": "code",
   "execution_count": 105,
   "metadata": {},
   "outputs": [
    {
     "name": "stdout",
     "output_type": "stream",
     "text": [
      "Image Cloud Percent is 12.0\n"
     ]
    }
   ],
   "source": [
    "select_image=ee.Image(LS.sort(\"CLOUD_COVER\").first())\n",
    "\n",
    "cloud_percent=select_image.get(\"CLOUD_COVER\").getInfo()\n",
    "\n",
    "print(\"Image Cloud Percent is\",round(cloud_percent*100,2))"
   ]
  },
  {
   "cell_type": "markdown",
   "metadata": {},
   "source": [
    "# 3. Filter Images by image quality"
   ]
  },
  {
   "cell_type": "code",
   "execution_count": 118,
   "metadata": {},
   "outputs": [
    {
     "name": "stdout",
     "output_type": "stream",
     "text": [
      "0\n"
     ]
    }
   ],
   "source": [
    "LS_good=LS.filterMetadata(\"IMAGE_QUALITY\",\"less_than\",8)\n",
    "ima_min=LS.aggregate_min(\"IMAGE_QUALITY\")\n",
    "ima_max=LS.aggregate_max(\"IMAGE_QUALITY\")\n",
    "print(LS_good.size().getInfo())"
   ]
  },
  {
   "cell_type": "markdown",
   "metadata": {},
   "source": [
    "# 4. Print out all selected images ID"
   ]
  },
  {
   "cell_type": "code",
   "execution_count": 123,
   "metadata": {},
   "outputs": [
    {
     "name": "stdout",
     "output_type": "stream",
     "text": [
      "66\n",
      "LC08_127045_20190202\n",
      "LC08_127046_20190202\n",
      "LC08_127045_20190218\n",
      "LC08_127046_20190218\n",
      "LC08_127046_20190306\n",
      "LC08_127045_20190322\n",
      "LC08_127046_20190322\n",
      "LC08_126045_20190331\n",
      "LC08_127045_20190407\n",
      "LC08_127046_20190407\n",
      "LC08_127045_20190423\n",
      "LC08_127046_20190423\n",
      "LC08_126045_20190502\n",
      "LC08_126045_20190518\n",
      "LC08_126046_20190518\n",
      "LC08_127045_20190525\n",
      "LC08_127046_20190525\n",
      "LC08_126045_20190603\n",
      "LC08_126046_20190603\n",
      "LC08_127045_20190610\n",
      "LC08_127046_20190610\n",
      "LC08_126045_20190619\n",
      "LC08_126046_20190619\n",
      "LC08_127045_20190626\n",
      "LC08_127046_20190626\n",
      "LC08_126045_20190705\n",
      "LC08_126046_20190705\n",
      "LC08_127045_20190712\n",
      "LC08_127046_20190712\n",
      "LC08_126045_20190721\n",
      "LC08_126046_20190721\n",
      "LC08_127045_20190728\n",
      "LC08_127046_20190728\n",
      "LC08_126045_20190806\n",
      "LC08_126046_20190806\n",
      "LC08_127045_20190813\n",
      "LC08_127046_20190813\n",
      "LC08_126045_20190822\n",
      "LC08_126046_20190822\n",
      "LC08_127045_20190829\n",
      "LC08_127046_20190829\n",
      "LC08_126045_20190907\n",
      "LC08_126046_20190907\n",
      "LC08_127045_20190914\n",
      "LC08_127046_20190914\n",
      "LC08_126045_20190923\n",
      "LC08_126046_20190923\n",
      "LC08_127045_20190930\n",
      "LC08_127046_20190930\n",
      "LC08_126045_20191009\n",
      "LC08_127045_20191016\n",
      "LC08_127046_20191016\n",
      "LC08_126045_20191025\n",
      "LC08_126046_20191025\n",
      "LC08_126045_20191110\n",
      "LC08_126046_20191110\n",
      "LC08_127045_20191117\n",
      "LC08_127046_20191117\n",
      "LC08_126045_20191126\n",
      "LC08_127045_20191203\n",
      "LC08_127046_20191203\n",
      "LC08_126045_20191212\n",
      "LC08_126046_20191212\n",
      "LC08_127045_20191219\n",
      "LC08_127046_20191219\n",
      "LC08_126046_20191228\n"
     ]
    }
   ],
   "source": [
    "LS=ee.ImageCollection(\"LANDSAT/LC08/C01/T1_TOA\").filterDate(\"2019-01-01\",\"2019-12-31\")\n",
    "HN=ee.FeatureCollection(\"users/havantuyen/Hanoi_Extent\")\n",
    "LS_HN=LS.filterBounds(HN)\n",
    "print(LS_HN.size().getInfo())\n",
    "\n",
    "collection=LS_HN.sort(\"system:time_start\").aggregate_array(\"system:index\").getInfo()\n",
    "\n",
    "for i in collection:\n",
    "    print(i)"
   ]
  },
  {
   "cell_type": "code",
   "execution_count": null,
   "metadata": {},
   "outputs": [],
   "source": []
  }
 ],
 "metadata": {
  "kernelspec": {
   "display_name": "Python 3",
   "language": "python",
   "name": "python3"
  },
  "language_info": {
   "codemirror_mode": {
    "name": "ipython",
    "version": 3
   },
   "file_extension": ".py",
   "mimetype": "text/x-python",
   "name": "python",
   "nbconvert_exporter": "python",
   "pygments_lexer": "ipython3",
   "version": "3.8.5"
  }
 },
 "nbformat": 4,
 "nbformat_minor": 4
}
