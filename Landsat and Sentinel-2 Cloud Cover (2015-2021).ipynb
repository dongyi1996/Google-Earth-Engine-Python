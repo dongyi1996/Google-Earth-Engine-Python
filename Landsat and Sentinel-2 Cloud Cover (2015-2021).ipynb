{
 "cells": [
  {
   "cell_type": "code",
   "execution_count": 1,
   "id": "b571eb83",
   "metadata": {},
   "outputs": [],
   "source": [
    "import ee\n",
    "import geemap as emap\n",
    "import pandas as pd\n",
    "import numpy as np"
   ]
  },
  {
   "cell_type": "code",
   "execution_count": 2,
   "id": "2776186e",
   "metadata": {
    "scrolled": true
   },
   "outputs": [
    {
     "data": {
      "text/html": [
       "<p>To authorize access needed by Earth Engine, open the following\n",
       "        URL in a web browser and follow the instructions:</p>\n",
       "        <p><a href=https://accounts.google.com/o/oauth2/auth?client_id=517222506229-vsmmajv00ul0bs7p89v5m89qs8eb9359.apps.googleusercontent.com&scope=https%3A%2F%2Fwww.googleapis.com%2Fauth%2Fearthengine+https%3A%2F%2Fwww.googleapis.com%2Fauth%2Fdevstorage.full_control&redirect_uri=urn%3Aietf%3Awg%3Aoauth%3A2.0%3Aoob&response_type=code&code_challenge=PrEnRO9MT56L-XWheLLNbbnxld8XQR0bh4CXUziAgmQ&code_challenge_method=S256>https://accounts.google.com/o/oauth2/auth?client_id=517222506229-vsmmajv00ul0bs7p89v5m89qs8eb9359.apps.googleusercontent.com&scope=https%3A%2F%2Fwww.googleapis.com%2Fauth%2Fearthengine+https%3A%2F%2Fwww.googleapis.com%2Fauth%2Fdevstorage.full_control&redirect_uri=urn%3Aietf%3Awg%3Aoauth%3A2.0%3Aoob&response_type=code&code_challenge=PrEnRO9MT56L-XWheLLNbbnxld8XQR0bh4CXUziAgmQ&code_challenge_method=S256</a></p>\n",
       "        <p>The authorization workflow will generate a code, which you\n",
       "        should paste in the box below</p>\n",
       "        "
      ],
      "text/plain": [
       "<IPython.core.display.HTML object>"
      ]
     },
     "metadata": {},
     "output_type": "display_data"
    },
    {
     "name": "stdout",
     "output_type": "stream",
     "text": [
      "Enter verification code: 4/1AX4XfWgvxw_Sv9H9J6nVHZwMLhPIx6lDq-8UYpHyG-yzJ3w86BfFORP8HrE\n",
      "\n",
      "Successfully saved authorization token.\n"
     ]
    }
   ],
   "source": [
    "ee.Authenticate()\n",
    "ee.Initialize()"
   ]
  },
  {
   "cell_type": "code",
   "execution_count": 3,
   "id": "a36395ad",
   "metadata": {},
   "outputs": [],
   "source": [
    "Map=emap.Map()"
   ]
  },
  {
   "cell_type": "markdown",
   "id": "b448c35f",
   "metadata": {},
   "source": [
    "**This notebook aims to extract cloud cover percent over the period of 2015 to 2021.**\n",
    "\n",
    "- Each image has one band called `quality band` and Landsat 8 named it `QA_PIXEL`. So the idea is to access bits 8-9 and get the high cloud confidence and assigned it to 1. Finally, we can map over all images in the collection and calculate the percentage of cloud confidence per pixel."
   ]
  },
  {
   "cell_type": "markdown",
   "id": "ad3d3444",
   "metadata": {},
   "source": [
    "## 1. Define Landsat image collection and study map"
   ]
  },
  {
   "cell_type": "code",
   "execution_count": 15,
   "id": "af3acfb8",
   "metadata": {},
   "outputs": [],
   "source": [
    "# Load the study area\n",
    "vn=ee.FeatureCollection(\"users/miketu72/VN_Map\")\n",
    "# vn=ee.FeatureCollection(\"users/miketu72/North_Africa_AOI\")\n",
    "# Landsat 8 collection TOA reflectance \n",
    "## Filter all October from 2015 to 2021\n",
    "ls8=ee.ImageCollection(\"LANDSAT/LC08/C02/T1_TOA\").filterBounds(vn).filter(ee.Filter.calendarRange(2017,2017,\"year\")).\\\n",
    "filter(ee.Filter.calendarRange(1,1,\"month\"))"
   ]
  },
  {
   "cell_type": "markdown",
   "id": "ce5f754a",
   "metadata": {},
   "source": [
    "- **Write a function to extract bitmask**"
   ]
  },
  {
   "cell_type": "code",
   "execution_count": 16,
   "id": "26956358",
   "metadata": {},
   "outputs": [],
   "source": [
    "# Write a function to get bitmask\n",
    "def bitwiseExtract(img, fromBit, toBit):\n",
    "    maskSize=ee.Number(1).add(toBit).subtract(fromBit)\n",
    "    mask=ee.Number(1).leftShift(maskSize).subtract(1)\n",
    "    return img.rightShift(fromBit).bitwiseAnd(mask)"
   ]
  },
  {
   "cell_type": "code",
   "execution_count": 17,
   "id": "83dcad1e",
   "metadata": {},
   "outputs": [],
   "source": [
    "# Write a function to create a binary cloud band =1 (cloud) 0 otherwise\n",
    "def cloudBand(img):\n",
    "    fromBit=8\n",
    "    toBit=9\n",
    "    qaMask=img.select(\"QA_PIXEL\")\n",
    "    blue=img.select(\"B3\")\n",
    "    total=blue.multiply(ee.Number(0)).add(ee.Number(1)).rename(\"total\")\n",
    "    cloud=bitwiseExtract(qaMask,fromBit,toBit).eq(3).rename(\"cloud\")\n",
    "    band=img.addBands(cloud).addBands(total)\n",
    "    return band  \n",
    "bandMap=ls8.map(cloudBand)"
   ]
  },
  {
   "cell_type": "code",
   "execution_count": 18,
   "id": "72ef2582",
   "metadata": {},
   "outputs": [],
   "source": [
    "# Select cloud band and sum up\n",
    "cloudBand=bandMap.select(\"cloud\").sum()\n",
    "# Select total and sum up\n",
    "totalBand=bandMap.select(\"total\").sum()\n",
    "# Calculate the percentage of cloud \n",
    "vnCloud=cloudBand.divide(totalBand).multiply(100).clip(vn)"
   ]
  },
  {
   "cell_type": "markdown",
   "id": "7d7534d1",
   "metadata": {},
   "source": [
    "- **Visualizing the cloud percent map**"
   ]
  },
  {
   "cell_type": "code",
   "execution_count": 19,
   "id": "ae8088bb",
   "metadata": {},
   "outputs": [
    {
     "data": {
      "application/vnd.jupyter.widget-view+json": {
       "model_id": "bfa8fb76d4b24b3884ee039633a54f63",
       "version_major": 2,
       "version_minor": 0
      },
      "text/plain": [
       "Map(bottom=3970.0, center=[16.28, 106.8], controls=(WidgetControl(options=['position', 'transparent_bg'], widg…"
      ]
     },
     "metadata": {},
     "output_type": "display_data"
    }
   ],
   "source": [
    "# Without clipping to Vietnam boundary\n",
    "cloudPercent=cloudBand.divide(totalBand).multiply(100).clip(vn)\n",
    "# Define color parameters\n",
    "Map.setCenter(106.8,16.28,6)\n",
    "vis_params = {'bands': ['cloud'], 'palette': ['440154', ' 3b528b', ' 21918c', ' 5ec962', ' fde725'], 'min': 0.0, 'max': 100.0}\n",
    "Map.addLayer(cloudPercent,vis_params,\"Landsat Cloud Percent\")\n",
    "Map"
   ]
  },
  {
   "cell_type": "markdown",
   "id": "ac9c4d2b",
   "metadata": {},
   "source": [
    "## Define Sentinel-2 image collection"
   ]
  },
  {
   "cell_type": "code",
   "execution_count": 23,
   "id": "d2ea9eaf",
   "metadata": {},
   "outputs": [],
   "source": [
    "# Define the sentinel-2 collection and select all october data in 2015\n",
    "sentinel2=ee.ImageCollection(\"COPERNICUS/S2\").filterBounds(vn).filter(ee.Filter.calendarRange(2017,2017,\"year\")).\\\n",
    "filter(ee.Filter.calendarRange(1,1,\"month\"))"
   ]
  },
  {
   "cell_type": "code",
   "execution_count": 24,
   "id": "cdcd4327",
   "metadata": {},
   "outputs": [],
   "source": [
    "# Write a function to create a binary cloud band =1 (cloud) 0 otherwise\n",
    "def cloudBand(img):\n",
    "    fromBit=10\n",
    "    toBit=10\n",
    "    qaMask=img.select(\"QA60\")\n",
    "    blue=img.select(\"B3\")\n",
    "    total=blue.multiply(ee.Number(0)).add(ee.Number(1)).rename(\"total\") # Create an image with value =1\n",
    "    cloud=bitwiseExtract(qaMask,fromBit,toBit).eq(1).rename(\"cloud\") # Create a binary image with cloud pixel=1 otherwise 0\n",
    "    band=img.addBands(cloud).addBands(total) # Add all bands to image\n",
    "    return band  \n",
    "sentinelMap=sentinel2.map(cloudBand)"
   ]
  },
  {
   "cell_type": "code",
   "execution_count": 25,
   "id": "263df8a1",
   "metadata": {},
   "outputs": [],
   "source": [
    "# Select cloud band and sum up\n",
    "sentinelCloud=sentinelMap.select(\"cloud\").sum()\n",
    "# Select total band then sum up\n",
    "sentinelTotal=sentinelMap.select(\"total\").sum()\n",
    "# Divide cloud pixels over total image taken\n",
    "sentinelPercent=sentinelCloud.divide(sentinelTotal).multiply(100).clip(vn)"
   ]
  },
  {
   "cell_type": "markdown",
   "id": "b932ff02",
   "metadata": {},
   "source": [
    "- **Dislay the Sentinel-2 cloud percent map**"
   ]
  },
  {
   "cell_type": "code",
   "execution_count": 26,
   "id": "65a7523e",
   "metadata": {},
   "outputs": [
    {
     "data": {
      "application/vnd.jupyter.widget-view+json": {
       "model_id": "bfa8fb76d4b24b3884ee039633a54f63",
       "version_major": 2,
       "version_minor": 0
      },
      "text/plain": [
       "Map(bottom=4086.0, center=[13.496472765758964, 108.14941406250001], controls=(WidgetControl(options=['position…"
      ]
     },
     "metadata": {},
     "output_type": "display_data"
    }
   ],
   "source": [
    "vis_params = {'bands': ['cloud'], 'palette': ['440154', ' 3b528b', ' 21918c', ' 5ec962', ' fde725'], 'min': 0.0, 'max': 100.0}\n",
    "Map.addLayer(sentinelPercent,vis_params,\"Sentinel Cloud Percent\")\n",
    "Map"
   ]
  }
 ],
 "metadata": {
  "kernelspec": {
   "display_name": "Python 3 (ipykernel)",
   "language": "python",
   "name": "python3"
  },
  "language_info": {
   "codemirror_mode": {
    "name": "ipython",
    "version": 3
   },
   "file_extension": ".py",
   "mimetype": "text/x-python",
   "name": "python",
   "nbconvert_exporter": "python",
   "pygments_lexer": "ipython3",
   "version": "3.8.10"
  }
 },
 "nbformat": 4,
 "nbformat_minor": 5
}
