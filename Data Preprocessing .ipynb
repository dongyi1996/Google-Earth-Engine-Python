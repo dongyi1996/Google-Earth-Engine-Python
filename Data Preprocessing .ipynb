{
 "cells": [
  {
   "cell_type": "code",
   "execution_count": 17,
   "metadata": {},
   "outputs": [],
   "source": [
    "import ee\n",
    "import geemap as emap\n",
    "import os\n",
    "import ee.mapclient"
   ]
  },
  {
   "cell_type": "code",
   "execution_count": 2,
   "metadata": {},
   "outputs": [],
   "source": [
    "try:\n",
    "    ee.Initialize()\n",
    "except:\n",
    "    ee.Authenticate()\n",
    "    ee.Initialize()"
   ]
  },
  {
   "cell_type": "markdown",
   "metadata": {},
   "source": [
    "# Initialize Basemap"
   ]
  },
  {
   "cell_type": "code",
   "execution_count": 3,
   "metadata": {
    "scrolled": true
   },
   "outputs": [
    {
     "data": {
      "application/vnd.jupyter.widget-view+json": {
       "model_id": "62a1abbd199c48aca8968517e00b0b1a",
       "version_major": 2,
       "version_minor": 0
      },
      "text/plain": [
       "Map(center=[40, -100], controls=(WidgetControl(options=['position'], widget=HBox(children=(ToggleButton(value=…"
      ]
     },
     "metadata": {},
     "output_type": "display_data"
    }
   ],
   "source": [
    "Map=emap.Map()\n",
    "Map"
   ]
  },
  {
   "cell_type": "markdown",
   "metadata": {},
   "source": [
    "# 1. Read shapefile area "
   ]
  },
  {
   "cell_type": "code",
   "execution_count": 4,
   "metadata": {},
   "outputs": [],
   "source": [
    "# Load point shapefile and HN area\n",
    "HN=ee.FeatureCollection(\"users/havantuyen/Hanoi_Extent\")\n",
    "Map.centerObject(HN,9)\n",
    "Map.addLayer(ee.Image().paint(HN,0,1.5),{\"palette\":[\"black\"]},\"HN_Map\") # Colour = 0 or set color=\"red\", and width =1.5"
   ]
  },
  {
   "cell_type": "code",
   "execution_count": 5,
   "metadata": {},
   "outputs": [],
   "source": [
    "# Read Sentinel-2 Data and clip the HN\n",
    "Sentinel2=ee.ImageCollection(\"COPERNICUS/S2\").filterDate(\"2018-08-01\",\"2018-11-30\").filterBounds(HN)\\\n",
    ".filterMetadata(\"CLOUDY_PIXEL_PERCENTAGE\",\"less_than\",10).median().clip(HN)\n",
    "\n",
    "# Map.addLayer(Sentinel2,{\"bands\":[\"B4\",\"B3\",\"B2\"],\"min\":536.86,\"max\":3160},\"Sentinel2\")"
   ]
  },
  {
   "cell_type": "markdown",
   "metadata": {},
   "source": [
    "## 1.1. Convert Sentinel-2 to TOA Reflectance "
   ]
  },
  {
   "cell_type": "code",
   "execution_count": 76,
   "metadata": {},
   "outputs": [],
   "source": [
    "TOA_S2=Sentinel2.divide(ee.Number(10000))\n",
    "# Map.addLayer(TOA_S2,{\"bands\":[\"B4\",\"B3\",\"B2\"],\"min\":0.08,\"max\":0.28},\"Sentinel2_TOA\")"
   ]
  },
  {
   "cell_type": "markdown",
   "metadata": {},
   "source": [
    "# 2. Rainfall and Temperature Data"
   ]
  },
  {
   "cell_type": "markdown",
   "metadata": {},
   "source": [
    "## 2.1. Precipitation"
   ]
  },
  {
   "cell_type": "markdown",
   "metadata": {},
   "source": [
    "### 2.1.1. Obtain a list of images from 2010 to 2018 between August and November"
   ]
  },
  {
   "cell_type": "code",
   "execution_count": 5,
   "metadata": {},
   "outputs": [],
   "source": [
    "# This returns a list of all images ID\n",
    "Rainfall=ee.ImageCollection('UCSB-CHG/CHIRPS/PENTAD').filterDate(\"2018-08-01\",\"2018-11-30\")\\\n",
    ".sort(\"system:time_start\").aggregate_array(\"system:index\").getInfo() # Return a list of image ID"
   ]
  },
  {
   "cell_type": "code",
   "execution_count": 6,
   "metadata": {},
   "outputs": [],
   "source": [
    "container=[]\n",
    "years=list(range(2010,2019))\n",
    "for eachyear in years:\n",
    "    Rainfall=ee.ImageCollection('UCSB-CHG/CHIRPS/PENTAD').filterDate(\"{0}-08-01\".format(eachyear),\"{0}-11-30\".format(eachyear))\\\n",
    ".sort(\"system:time_start\").aggregate_array(\"system:index\").getInfo()\n",
    "    for eachimage in Rainfall:\n",
    "        container.append(eachimage)"
   ]
  },
  {
   "cell_type": "markdown",
   "metadata": {},
   "source": [
    "### 2.1.2. Building an ImageCollection from above container (precipitation data)"
   ]
  },
  {
   "cell_type": "code",
   "execution_count": 7,
   "metadata": {},
   "outputs": [
    {
     "name": "stdout",
     "output_type": "stream",
     "text": [
      "216\n"
     ]
    }
   ],
   "source": [
    "list_image=[]\n",
    "\n",
    "for eachimage in container:\n",
    "    image=ee.Image('UCSB-CHG/CHIRPS/PENTAD/{0}'.format(eachimage))\n",
    "    list_image.append(image)\n",
    "Rainfall_Collection=ee.ImageCollection(list_image)\n",
    "print(Rainfall_Collection.size().getInfo())"
   ]
  },
  {
   "cell_type": "code",
   "execution_count": 13,
   "metadata": {},
   "outputs": [],
   "source": [
    "# Obtain the median rainfall over the period\n",
    "median_rainfall=Rainfall_Collection.median()\n",
    "# Obtain the max rainfall over the period\n",
    "max_rainfall=Rainfall_Collection.max()\n",
    "# Obtain the min rainfall over the period\n",
    "min_rainfall=Rainfall_Collection.min()\n",
    "# Display max rainfall\n",
    "vis_params = {\n",
    "  'min': 50,\n",
    "  'max': 200,\n",
    "  'palette': ['#fdff19', '#14ff17', '#ff1308', '#041fff', '#10faff']}\n",
    "Map.addLayer(max_rainfall,vis_params,\"Max_Rainfall\")"
   ]
  },
  {
   "cell_type": "markdown",
   "metadata": {},
   "source": [
    "### 1.2.3. Export rainfall to Google Drive"
   ]
  },
  {
   "cell_type": "code",
   "execution_count": 9,
   "metadata": {},
   "outputs": [
    {
     "name": "stdout",
     "output_type": "stream",
     "text": [
      "Generating URL ...\n",
      "Downloading data from https://earthengine.googleapis.com/v1alpha/projects/earthengine-legacy/thumbnails/08c9acea727bd162e1b5938b5bdb1b64-15056ce5f4c8d5a0d3b93f83a30de0e9:getPixels\n",
      "Please wait ...\n",
      "[WinError 32] The process cannot access the file because it is being used by another process: 'F:\\\\Research\\\\Research_Cooperation\\\\ILRI_Mosquito_Mapping\\\\Mosquito\\\\Python_Mosquito\\\\Max_Rain.zip'\n"
     ]
    }
   ],
   "source": [
    "HN1=HN.geometry()\n",
    "path=os.path.join(r\"F:\\Research\\Research_Cooperation\\ILRI_Mosquito_Mapping\\Mosquito\\Python_Mosquito\",\"Max_Rain.tif\")\n",
    "emap.ee_export_image(max_rainfall, filename=path,scale=30,region=HN1,file_per_band=False)"
   ]
  },
  {
   "cell_type": "code",
   "execution_count": 23,
   "metadata": {},
   "outputs": [],
   "source": [
    "task = ee.batch.Export.image.toDrive(image=max_rainfall,  # an ee.Image object.\n",
    "                                     region=HN1,  # an ee.Geometry object.\n",
    "                                     description='Max_Rain',\n",
    "                                     folder='Mosquito',\n",
    "                                     fileNamePrefix='Max_Rain',\n",
    "                                     scale=30)\n",
    "task.start() # Nothing happens"
   ]
  },
  {
   "cell_type": "code",
   "execution_count": 27,
   "metadata": {},
   "outputs": [],
   "source": []
  },
  {
   "cell_type": "markdown",
   "metadata": {},
   "source": [
    "# 2. Temperature"
   ]
  }
 ],
 "metadata": {
  "kernelspec": {
   "display_name": "Python 3",
   "language": "python",
   "name": "python3"
  },
  "language_info": {
   "codemirror_mode": {
    "name": "ipython",
    "version": 3
   },
   "file_extension": ".py",
   "mimetype": "text/x-python",
   "name": "python",
   "nbconvert_exporter": "python",
   "pygments_lexer": "ipython3",
   "version": "3.8.5"
  }
 },
 "nbformat": 4,
 "nbformat_minor": 4
}
