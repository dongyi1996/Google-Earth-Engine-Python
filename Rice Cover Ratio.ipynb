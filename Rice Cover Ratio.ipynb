{
 "cells": [
  {
   "cell_type": "code",
   "execution_count": 1,
   "metadata": {},
   "outputs": [],
   "source": [
    "import numpy as np\n",
    "import gdal\n",
    "import os \n",
    "import time\n",
    "%matplotlib inline"
   ]
  },
  {
   "cell_type": "markdown",
   "metadata": {},
   "source": [
    "### Read raster data in Python"
   ]
  },
  {
   "cell_type": "code",
   "execution_count": 50,
   "metadata": {},
   "outputs": [],
   "source": [
    "# Using gdal library to read raster data\n",
    "path=r\"F:\\Training_Material\\Test\"\n",
    "\n",
    "img=gdal.Open(os.path.join(path,\"Landcover.tif\"))\n",
    "# Read raster as array numpy\n",
    "np_array=img.ReadAsArray().astype(\"int32\")"
   ]
  },
  {
   "cell_type": "code",
   "execution_count": 51,
   "metadata": {},
   "outputs": [],
   "source": [
    "def xulynegative(x):\n",
    "    if x-7<0:\n",
    "        return 0\n",
    "    else:\n",
    "        return x-7\n",
    "\n",
    "def xulypositive(x,xmax):\n",
    "    if x+7>xmax:\n",
    "        return xmax\n",
    "    else:\n",
    "        return x+7\n",
    "\n",
    "def get_pixel_datlua(unique,counts):\n",
    "    zip_iterator=zip(list(unique),list(counts))\n",
    "    mydict=dict(zip_iterator)\n",
    "    return mydict[1]"
   ]
  },
  {
   "cell_type": "code",
   "execution_count": 69,
   "metadata": {},
   "outputs": [
    {
     "name": "stdout",
     "output_type": "stream",
     "text": [
      "--- 4.476495742797852 seconds ---\n"
     ]
    }
   ],
   "source": [
    "start_time = time.time()\n",
    "numpy_result = np.full(np_array.shape,1.0000)\n",
    "\n",
    "for x in range(len(np_array)):\n",
    "    for y in range(len(np_array[x])):\n",
    "     \n",
    "        if np_array[x,y] ==0:\n",
    "            pass\n",
    "        else:\n",
    "            xmax,ymax = np_array.shape\n",
    "            subset = np_array[xulynegative(x):xulypositive(x,xmax),xulynegative(y):xulypositive(y,ymax)]\n",
    "            unique, counts = np.unique(subset,return_counts=True)\n",
    "            try:\n",
    "                ketqua = get_pixel_datlua(unique, counts)/subset.size\n",
    "            except:\n",
    "                ketqua = 0\n",
    "\n",
    "            numpy_result[x,y] = ketqua\n",
    "print(\"--- %s seconds ---\" % (time.time() - start_time))"
   ]
  },
  {
   "cell_type": "code",
   "execution_count": 70,
   "metadata": {},
   "outputs": [],
   "source": [
    "fn = r'F:\\Training_Material\\Test\\Rice_200m.tif'\n",
    "driver = gdal.GetDriverByName('GTiff')\n",
    "ds = driver.Create(fn, xsize=np_array.shape[1], ysize=np_array.shape[0], bands=1, eType=gdal.GDT_Float32)\n",
    "ds.GetRasterBand(1).WriteArray(numpy_result)\n",
    "ds.SetGeoTransform(img.GetGeoTransform())\n",
    "ds.SetProjection(img.GetProjection())\n",
    "ds = None"
   ]
  },
  {
   "cell_type": "code",
   "execution_count": 66,
   "metadata": {},
   "outputs": [
    {
     "data": {
      "text/plain": [
       "array([[1.1, 1.1, 1.1, ..., 1.1, 1.1, 1.1],\n",
       "       [1.1, 1.1, 1.1, ..., 1.1, 1.1, 1.1],\n",
       "       [1.1, 1.1, 1.1, ..., 1.1, 1.1, 1.1],\n",
       "       ...,\n",
       "       [1.1, 1.1, 1.1, ..., 1.1, 1.1, 1.1],\n",
       "       [1.1, 1.1, 1.1, ..., 1.1, 1.1, 1.1],\n",
       "       [1.1, 1.1, 1.1, ..., 1.1, 1.1, 1.1]])"
      ]
     },
     "execution_count": 66,
     "metadata": {},
     "output_type": "execute_result"
    }
   ],
   "source": [
    "numpy_result"
   ]
  },
  {
   "cell_type": "code",
   "execution_count": 7,
   "metadata": {},
   "outputs": [],
   "source": [
    "mynp=np.array([[1,2,3,4],[3,4,5,6]])"
   ]
  },
  {
   "cell_type": "code",
   "execution_count": 46,
   "metadata": {},
   "outputs": [
    {
     "data": {
      "text/plain": [
       "2"
      ]
     },
     "execution_count": 46,
     "metadata": {},
     "output_type": "execute_result"
    }
   ],
   "source": [
    "len(mynp)"
   ]
  },
  {
   "cell_type": "code",
   "execution_count": 34,
   "metadata": {},
   "outputs": [],
   "source": [
    "unique,counts = np.unique(mynp,return_counts=True)"
   ]
  },
  {
   "cell_type": "code",
   "execution_count": 36,
   "metadata": {},
   "outputs": [
    {
     "data": {
      "text/plain": [
       "array([1, 1, 2, 2, 1, 1], dtype=int64)"
      ]
     },
     "execution_count": 36,
     "metadata": {},
     "output_type": "execute_result"
    }
   ],
   "source": [
    "counts"
   ]
  },
  {
   "cell_type": "code",
   "execution_count": 14,
   "metadata": {},
   "outputs": [
    {
     "data": {
      "text/plain": [
       "array([[-9999, -9999, -9999, -9999],\n",
       "       [-9999, -9999, -9999, -9999]])"
      ]
     },
     "execution_count": 14,
     "metadata": {},
     "output_type": "execute_result"
    }
   ],
   "source": [
    "np.full(mynp.shape,-9999)"
   ]
  },
  {
   "cell_type": "code",
   "execution_count": 37,
   "metadata": {},
   "outputs": [],
   "source": [
    "zip_iterator=zip(list(unique),list(counts))\n",
    "mydict=dict(zip_iterator)"
   ]
  },
  {
   "cell_type": "code",
   "execution_count": 38,
   "metadata": {},
   "outputs": [
    {
     "data": {
      "text/plain": [
       "<zip at 0x1ede37bb640>"
      ]
     },
     "execution_count": 38,
     "metadata": {},
     "output_type": "execute_result"
    }
   ],
   "source": [
    "zip_iterator"
   ]
  },
  {
   "cell_type": "code",
   "execution_count": 40,
   "metadata": {},
   "outputs": [
    {
     "data": {
      "text/plain": [
       "{1: 1, 2: 1, 3: 2, 4: 2, 5: 1, 6: 1}"
      ]
     },
     "execution_count": 40,
     "metadata": {},
     "output_type": "execute_result"
    }
   ],
   "source": [
    "mydict"
   ]
  },
  {
   "cell_type": "code",
   "execution_count": null,
   "metadata": {},
   "outputs": [],
   "source": []
  }
 ],
 "metadata": {
  "kernelspec": {
   "display_name": "Python 3",
   "language": "python",
   "name": "python3"
  },
  "language_info": {
   "codemirror_mode": {
    "name": "ipython",
    "version": 3
   },
   "file_extension": ".py",
   "mimetype": "text/x-python",
   "name": "python",
   "nbconvert_exporter": "python",
   "pygments_lexer": "ipython3",
   "version": "3.8.5"
  }
 },
 "nbformat": 4,
 "nbformat_minor": 4
}
