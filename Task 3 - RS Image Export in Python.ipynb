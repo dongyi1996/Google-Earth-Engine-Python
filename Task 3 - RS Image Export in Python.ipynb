{
 "cells": [
  {
   "cell_type": "markdown",
   "metadata": {},
   "source": [
    "## Import library"
   ]
  },
  {
   "cell_type": "code",
   "execution_count": 34,
   "metadata": {},
   "outputs": [
    {
     "ename": "ModuleNotFoundError",
     "evalue": "No module named 'ipygee'",
     "output_type": "error",
     "traceback": [
      "\u001b[1;31m---------------------------------------------------------------------------\u001b[0m",
      "\u001b[1;31mModuleNotFoundError\u001b[0m                       Traceback (most recent call last)",
      "\u001b[1;32m<ipython-input-34-ee230c8c4e11>\u001b[0m in \u001b[0;36m<module>\u001b[1;34m\u001b[0m\n\u001b[0;32m      4\u001b[0m \u001b[1;32mimport\u001b[0m \u001b[0mee\u001b[0m\u001b[1;33m.\u001b[0m\u001b[0mmapclient\u001b[0m\u001b[1;33m\u001b[0m\u001b[1;33m\u001b[0m\u001b[0m\n\u001b[0;32m      5\u001b[0m \u001b[1;32mimport\u001b[0m \u001b[0mgeetools\u001b[0m \u001b[1;32mas\u001b[0m \u001b[0mgee\u001b[0m\u001b[1;33m\u001b[0m\u001b[1;33m\u001b[0m\u001b[0m\n\u001b[1;32m----> 6\u001b[1;33m \u001b[1;32mimport\u001b[0m \u001b[0mipygee\u001b[0m \u001b[1;32mas\u001b[0m \u001b[0mui\u001b[0m\u001b[1;33m\u001b[0m\u001b[1;33m\u001b[0m\u001b[0m\n\u001b[0m",
      "\u001b[1;31mModuleNotFoundError\u001b[0m: No module named 'ipygee'"
     ]
    }
   ],
   "source": [
    "import ee\n",
    "import geemap as emap\n",
    "import os\n",
    "import ee.mapclient\n",
    "import geetools as gee\n",
    "import ipygee as ui"
   ]
  },
  {
   "cell_type": "markdown",
   "metadata": {},
   "source": [
    "## Initialization "
   ]
  },
  {
   "cell_type": "code",
   "execution_count": 2,
   "metadata": {},
   "outputs": [],
   "source": [
    "try:\n",
    "    ee.Initialize()\n",
    "except:\n",
    "    ee.Authenticate()\n",
    "    ee.Initialize()"
   ]
  },
  {
   "cell_type": "markdown",
   "metadata": {},
   "source": [
    "### Display the Map viewer"
   ]
  },
  {
   "cell_type": "code",
   "execution_count": 3,
   "metadata": {},
   "outputs": [
    {
     "data": {
      "application/vnd.jupyter.widget-view+json": {
       "model_id": "3eb1e3b8531745f0a49c098171e26df8",
       "version_major": 2,
       "version_minor": 0
      },
      "text/plain": [
       "Map(center=[40, -100], controls=(WidgetControl(options=['position'], widget=HBox(children=(ToggleButton(value=…"
      ]
     },
     "metadata": {},
     "output_type": "display_data"
    }
   ],
   "source": [
    "Map=emap.Map()\n",
    "Map"
   ]
  },
  {
   "cell_type": "markdown",
   "metadata": {},
   "source": [
    "### Load country boundary feature- Singapore "
   ]
  },
  {
   "cell_type": "code",
   "execution_count": 16,
   "metadata": {},
   "outputs": [],
   "source": [
    "# Display the Hanoi boundary \n",
    "UN=ee.FeatureCollection(\"FAO/GAUL/2015/level2\")\n",
    "\n",
    "Singapore=UN.filterMetadata(\"ADM0_NAME\",\"equals\",\"Singapore\")\n",
    "\n",
    "Map.centerObject(Singapore,9)\n",
    "Map.addLayer(ee.Image().paint(Singapore,0,1.5),{\"palette\":[\"black\"]},\"Singapore\") # Colour = 0 or set color=\"red\", and width =1.5"
   ]
  },
  {
   "cell_type": "markdown",
   "metadata": {},
   "source": [
    "# Import Landsat 8 TOA Data"
   ]
  },
  {
   "cell_type": "code",
   "execution_count": 6,
   "metadata": {},
   "outputs": [],
   "source": [
    "# Obtain Landsat 8 TOA Level 1\n",
    "LS8=ee.ImageCollection(\"LANDSAT/LC08/C01/T1_TOA\").filterDate(\"2018-01-01\",\"2018-12-31\")\\\n",
    ".filterMetadata(\"CLOUD_COVER\",\"less_than\",10).filterBounds(Singapore) # Filter boundary of Singapore and cloud cover\n",
    "Map.addLayer(LS8,{},\"LS8\")"
   ]
  },
  {
   "cell_type": "code",
   "execution_count": 66,
   "metadata": {},
   "outputs": [
    {
     "name": "stdout",
     "output_type": "stream",
     "text": [
      "The images cover Singapore is 2 \n"
     ]
    }
   ],
   "source": [
    "# Show the number of images in the LS8 Collection (Singapore) with less than 10 cloud percent\n",
    "print(\"The images cover Singapore is {} \".format(LS8.size().getInfo()))"
   ]
  },
  {
   "cell_type": "markdown",
   "metadata": {},
   "source": [
    "## Download a single image and image collection using ee package"
   ]
  },
  {
   "cell_type": "markdown",
   "metadata": {},
   "source": [
    "## Download single image "
   ]
  },
  {
   "cell_type": "code",
   "execution_count": 67,
   "metadata": {},
   "outputs": [],
   "source": [
    "# Obtain median over the Image Collection\n",
    "LS_Sing=LS8.median().float().clip(Singapore) # Convert to float32 as it has both float32 and float64. Can't download if mixed\n",
    "Map.addLayer(LS_Sing,{},\"LSSIng\")"
   ]
  },
  {
   "cell_type": "code",
   "execution_count": 155,
   "metadata": {},
   "outputs": [],
   "source": [
    "# Download a single image with boundary of Singapore and 30m pixel size\n",
    "task = ee.batch.Export.image.toDrive(image=LS_Sing,  # an ee.Image object.\n",
    "                                     region=Singapore.geometry().bounds().getInfo()[\"coordinates\"],  # an ee.Geometry object.\n",
    "                                     description=\"LS_Sing\",\n",
    "                                     folder=\"Examples\",\n",
    "                                     fileNamePrefix=\"LS_Sing\",\n",
    "                                     scale=30,\n",
    "                                     crs=\"EPSG:4326\")\n",
    "task.start()"
   ]
  },
  {
   "cell_type": "code",
   "execution_count": 160,
   "metadata": {},
   "outputs": [
    {
     "data": {
      "text/plain": [
       "{'state': 'COMPLETED',\n",
       " 'description': 'LS_Sing',\n",
       " 'creation_timestamp_ms': 1603006806278,\n",
       " 'update_timestamp_ms': 1603006932809,\n",
       " 'start_timestamp_ms': 1603006817208,\n",
       " 'task_type': 'EXPORT_IMAGE',\n",
       " 'destination_uris': ['https://drive.google.com/#folders/12EBLRFpIRdapPpC2I2ErW-h1STdoEVEN'],\n",
       " 'attempt': 1,\n",
       " 'id': '5BUFTNTAIOHDZL5A4TFURSZS',\n",
       " 'name': 'projects/earthengine-legacy/operations/5BUFTNTAIOHDZL5A4TFURSZS'}"
      ]
     },
     "execution_count": 160,
     "metadata": {},
     "output_type": "execute_result"
    }
   ],
   "source": [
    "task.status()"
   ]
  },
  {
   "cell_type": "markdown",
   "metadata": {},
   "source": [
    "## Download image collection for Singapore "
   ]
  },
  {
   "cell_type": "code",
   "execution_count": 163,
   "metadata": {},
   "outputs": [],
   "source": [
    "# Download all two images in the LS8 Collection (Singapore)\n",
    "LS8=ee.ImageCollection(\"LANDSAT/LC08/C01/T1_TOA\").filterDate(\"2018-01-01\",\"2018-12-31\")\\\n",
    ".filterMetadata(\"CLOUD_COVER\",\"less_than\",10).filterBounds(Singapore) # Filter boundary of Singapore and cloud cover"
   ]
  },
  {
   "cell_type": "code",
   "execution_count": 32,
   "metadata": {},
   "outputs": [],
   "source": [
    "# Loop over all images in the Collection and clip the study area and export\n",
    "\n",
    "mlist =LS8.sort(\"system:time_start\").aggregate_array(\"system:index\").getInfo()\n",
    "for eachimage in mlist:\n",
    "    img=ee.Image(\"LANDSAT/LC08/C01/T1_TOA/{}\".format(eachimage)).clip(Singapore)\n",
    "    task = ee.batch.Export.image.toDrive(image=img,  # an ee.Image object\n",
    "                                         region=Singapore.geometry().bounds().getInfo()[\"coordinates\"],  # an ee.Geometry object.\n",
    "                                         description=eachimage,\n",
    "                                         folder=\"Examples\",\n",
    "                                         fileNamePrefix=eachimage,\n",
    "                                         scale=30,\n",
    "                                         crs=\"EPSG:4326\")\n",
    "\n",
    "    task.start() "
   ]
  },
  {
   "cell_type": "code",
   "execution_count": null,
   "metadata": {},
   "outputs": [],
   "source": []
  },
  {
   "cell_type": "code",
   "execution_count": 143,
   "metadata": {},
   "outputs": [
    {
     "data": {
      "text/plain": [
       "[<Task EXPORT_IMAGE: LS8_2018-05-08_6.84 (UNSUBMITTED)>,\n",
       " <Task EXPORT_IMAGE: LS8_2018-05-24_5.67 (UNSUBMITTED)>]"
      ]
     },
     "execution_count": 143,
     "metadata": {},
     "output_type": "execute_result"
    }
   ],
   "source": [
    "# We can pass namePattern by our defined pattern\n",
    "task=gee.batch.Export.imagecollection.toDrive(\n",
    "    LS8, \n",
    "    'Collection',\n",
    "    namePattern='LS8_{system_date}_{CLOUD_COVER}', # This can be passed namePattern='LS8_{system_date}_{CLOUD_COVER}'\n",
    "    scale=30,\n",
    "    dataType=\"float\", \n",
    "    region=Singapore.geometry().bounds().getInfo()[\"coordinates\"], \n",
    "    datePattern=\"y-MM-dd\", # Can be passed \"y-MM-dd\"\n",
    "    extra=None, \n",
    "    verbose=False,\n",
    "    crs=\"EPSG:4326\"\n",
    ")\n",
    "task"
   ]
  },
  {
   "cell_type": "markdown",
   "metadata": {},
   "source": [
    "# Some learnt notes"
   ]
  },
  {
   "cell_type": "markdown",
   "metadata": {},
   "source": [
    "ee.Feature = Singapore.geometry() behaves like ee.geometry() # Here we can use all methods of ee.Feature"
   ]
  },
  {
   "cell_type": "code",
   "execution_count": 105,
   "metadata": {},
   "outputs": [],
   "source": [
    "a=Singapore.geometry().coordinates().getInfo()"
   ]
  },
  {
   "cell_type": "code",
   "execution_count": 106,
   "metadata": {},
   "outputs": [
    {
     "data": {
      "text/plain": [
       "[103.81230037896471, 1.3840826903216656]"
      ]
     },
     "execution_count": 106,
     "metadata": {},
     "output_type": "execute_result"
    }
   ],
   "source": [
    "a[0][0][0]"
   ]
  },
  {
   "cell_type": "code",
   "execution_count": 107,
   "metadata": {},
   "outputs": [
    {
     "data": {
      "text/plain": [
       "[[[103.63828400206005, 1.1640393937452072],\n",
       "  [104.09003995172597, 1.1640393937452072],\n",
       "  [104.09003995172597, 1.4712714973692553],\n",
       "  [103.63828400206005, 1.4712714973692553],\n",
       "  [103.63828400206005, 1.1640393937452072]]]"
      ]
     },
     "execution_count": 107,
     "metadata": {},
     "output_type": "execute_result"
    }
   ],
   "source": [
    "Singapore.geometry().bounds().getInfo()[\"coordinates\"]"
   ]
  },
  {
   "cell_type": "code",
   "execution_count": null,
   "metadata": {},
   "outputs": [],
   "source": []
  },
  {
   "cell_type": "code",
   "execution_count": 26,
   "metadata": {},
   "outputs": [
    {
     "data": {
      "text/plain": [
       "['SHape.file', '.shp']"
      ]
     },
     "execution_count": 26,
     "metadata": {},
     "output_type": "execute_result"
    }
   ],
   "source": [
    "list(os.path.splitext(\"SHape.file.shp\"))"
   ]
  },
  {
   "cell_type": "code",
   "execution_count": 25,
   "metadata": {},
   "outputs": [
    {
     "data": {
      "text/plain": [
       "['Shape', 'file', 'shp']"
      ]
     },
     "execution_count": 25,
     "metadata": {},
     "output_type": "execute_result"
    }
   ],
   "source": [
    "a=\"Shape.file.shp\"\n",
    "a.split(\".\")"
   ]
  },
  {
   "cell_type": "code",
   "execution_count": 27,
   "metadata": {},
   "outputs": [
    {
     "data": {
      "text/plain": [
       "('SHape.file', '.shp')"
      ]
     },
     "execution_count": 27,
     "metadata": {},
     "output_type": "execute_result"
    }
   ],
   "source": [
    "a=os.path.splitext(\"SHape.file.shp\")\n",
    "a"
   ]
  },
  {
   "cell_type": "code",
   "execution_count": 29,
   "metadata": {},
   "outputs": [
    {
     "data": {
      "text/plain": [
       "'.shp'"
      ]
     },
     "execution_count": 29,
     "metadata": {},
     "output_type": "execute_result"
    }
   ],
   "source": [
    "a[1].strip()"
   ]
  },
  {
   "cell_type": "code",
   "execution_count": null,
   "metadata": {},
   "outputs": [],
   "source": []
  }
 ],
 "metadata": {
  "kernelspec": {
   "display_name": "Python 3",
   "language": "python",
   "name": "python3"
  },
  "language_info": {
   "codemirror_mode": {
    "name": "ipython",
    "version": 3
   },
   "file_extension": ".py",
   "mimetype": "text/x-python",
   "name": "python",
   "nbconvert_exporter": "python",
   "pygments_lexer": "ipython3",
   "version": "3.8.5"
  }
 },
 "nbformat": 4,
 "nbformat_minor": 4
}
