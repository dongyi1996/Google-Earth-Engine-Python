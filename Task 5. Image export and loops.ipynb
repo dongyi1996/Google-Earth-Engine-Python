{
 "cells": [
  {
   "cell_type": "code",
   "execution_count": 1,
   "metadata": {},
   "outputs": [],
   "source": [
    "import ee\n",
    "import geemap as emap\n",
    "import geetools as gee"
   ]
  },
  {
   "cell_type": "code",
   "execution_count": 17,
   "metadata": {},
   "outputs": [],
   "source": [
    "try:\n",
    "    ee.Initialize()\n",
    "except:\n",
    "    ee.Authenticate()\n",
    "    ee.Initialize()"
   ]
  },
  {
   "cell_type": "code",
   "execution_count": 2,
   "metadata": {
    "scrolled": true
   },
   "outputs": [
    {
     "data": {
      "application/vnd.jupyter.widget-view+json": {
       "model_id": "ed96962ce67b4fce9b8220edb602c17a",
       "version_major": 2,
       "version_minor": 0
      },
      "text/plain": [
       "Map(center=[40, -100], controls=(WidgetControl(options=['position'], widget=HBox(children=(ToggleButton(value=…"
      ]
     },
     "metadata": {},
     "output_type": "display_data"
    }
   ],
   "source": [
    "Map=emap.Map()\n",
    "Map"
   ]
  },
  {
   "cell_type": "code",
   "execution_count": 3,
   "metadata": {},
   "outputs": [],
   "source": [
    "# Display the Hanoi boundary \n",
    "UN=ee.FeatureCollection(\"FAO/GAUL/2015/level2\")\n",
    "\n",
    "Singapore=UN.filterMetadata(\"ADM0_NAME\",\"equals\",\"Singapore\")\n",
    "\n",
    "Map.centerObject(Singapore,9)\n",
    "Map.addLayer(ee.Image().paint(Singapore,0,1.5),{\"palette\":[\"black\"]},\"Singapore\") # Colour = 0 or set color=\"red\", and width =1.5"
   ]
  },
  {
   "cell_type": "markdown",
   "metadata": {},
   "source": [
    "## 1. Loop through all images between August and November from 2010 to 2018\n"
   ]
  },
  {
   "cell_type": "code",
   "execution_count": 4,
   "metadata": {},
   "outputs": [],
   "source": [
    "# Download all two images in the LS8 Collection (Singapore)\n",
    "LS8=ee.ImageCollection(\"LANDSAT/LC08/C01/T1_TOA\").filterDate(\"2018-01-01\",\"2018-12-31\")\\\n",
    ".filterMetadata(\"CLOUD_COVER\",\"less_than\",10).filterBounds(Singapore) # Filter boundary of Singapore and cloud cover"
   ]
  },
  {
   "cell_type": "code",
   "execution_count": 22,
   "metadata": {},
   "outputs": [
    {
     "data": {
      "text/plain": [
       "[<Task EXPORT_IMAGE: LC08_125059_20180508 (UNSUBMITTED)>,\n",
       " <Task EXPORT_IMAGE: LC08_125059_20180524 (UNSUBMITTED)>]"
      ]
     },
     "execution_count": 22,
     "metadata": {},
     "output_type": "execute_result"
    }
   ],
   "source": [
    "task=gee.batch.Export.imagecollection.toDrive(\n",
    "    LS8, \n",
    "    'Collection',\n",
    "    namePattern='{id}', # This can be passed namePattern='LS8_{system_date}_{CLOUD_COVER}'\n",
    "    scale=30,\n",
    "    dataType=\"double\", \n",
    "    region=Singapore.geometry().bounds().getInfo()[\"coordinates\"], \n",
    "    datePattern=None, # Can be passed \"y-MM-dd\"\n",
    "    extra=None, \n",
    "    verbose=False,\n",
    "    crs=\"EPSG:4326\"\n",
    ")\n",
    "task"
   ]
  },
  {
   "cell_type": "code",
   "execution_count": 27,
   "metadata": {},
   "outputs": [
    {
     "name": "stdout",
     "output_type": "stream",
     "text": [
      "Yes\n",
      "F:\\Research\\Research_Cooperation\\ILRI_Mosquito_Mapping\\.RData\n",
      "F:\\Research\\Research_Cooperation\\ILRI_Mosquito_Mapping\\.Rhistory\n",
      "F:\\Research\\Research_Cooperation\\ILRI_Mosquito_Mapping\\Book2.csv\n",
      "F:\\Research\\Research_Cooperation\\ILRI_Mosquito_Mapping\\datamos.ods\n",
      "F:\\Research\\Research_Cooperation\\ILRI_Mosquito_Mapping\\Distribution of Malaria using GEE.pdf\n",
      "F:\\Research\\Research_Cooperation\\ILRI_Mosquito_Mapping\\GPS_Filter_Locations.nb.html\n",
      "F:\\Research\\Research_Cooperation\\ILRI_Mosquito_Mapping\\GPS_Filter_Locations.Rmd\n",
      "F:\\Research\\Research_Cooperation\\ILRI_Mosquito_Mapping\\GPS_Shapefile.cpg\n",
      "F:\\Research\\Research_Cooperation\\ILRI_Mosquito_Mapping\\GPS_Shapefile.dbf\n",
      "F:\\Research\\Research_Cooperation\\ILRI_Mosquito_Mapping\\GPS_Shapefile.prj\n",
      "F:\\Research\\Research_Cooperation\\ILRI_Mosquito_Mapping\\GPS_Shapefile.qpj\n",
      "F:\\Research\\Research_Cooperation\\ILRI_Mosquito_Mapping\\GPS_Shapefile.shp\n",
      "F:\\Research\\Research_Cooperation\\ILRI_Mosquito_Mapping\\GPS_Shapefile.shx\n",
      "F:\\Research\\Research_Cooperation\\ILRI_Mosquito_Mapping\\GPS_Shapfile.csv\n",
      "F:\\Research\\Research_Cooperation\\ILRI_Mosquito_Mapping\\Hands-on Training Schedule.docx\n",
      "F:\\Research\\Research_Cooperation\\ILRI_Mosquito_Mapping\\Hanoi.tif\n",
      "F:\\Research\\Research_Cooperation\\ILRI_Mosquito_Mapping\\Hanoi_communes.dbf\n",
      "F:\\Research\\Research_Cooperation\\ILRI_Mosquito_Mapping\\Hanoi_communes.prj\n",
      "F:\\Research\\Research_Cooperation\\ILRI_Mosquito_Mapping\\Hanoi_communes.qpj\n",
      "F:\\Research\\Research_Cooperation\\ILRI_Mosquito_Mapping\\Hanoi_communes.shp\n",
      "F:\\Research\\Research_Cooperation\\ILRI_Mosquito_Mapping\\Hanoi_communes.shx\n",
      "F:\\Research\\Research_Cooperation\\ILRI_Mosquito_Mapping\\Hanoi_district.cpg\n",
      "F:\\Research\\Research_Cooperation\\ILRI_Mosquito_Mapping\\Hanoi_district.dbf\n",
      "F:\\Research\\Research_Cooperation\\ILRI_Mosquito_Mapping\\Hanoi_district.prj\n",
      "F:\\Research\\Research_Cooperation\\ILRI_Mosquito_Mapping\\Hanoi_district.qpj\n",
      "F:\\Research\\Research_Cooperation\\ILRI_Mosquito_Mapping\\Hanoi_district.shp\n",
      "F:\\Research\\Research_Cooperation\\ILRI_Mosquito_Mapping\\Hanoi_district.shx\n",
      "F:\\Research\\Research_Cooperation\\ILRI_Mosquito_Mapping\\Hanoi_Extent.cpg\n",
      "F:\\Research\\Research_Cooperation\\ILRI_Mosquito_Mapping\\Hanoi_Extent.dbf\n",
      "F:\\Research\\Research_Cooperation\\ILRI_Mosquito_Mapping\\Hanoi_Extent.json\n",
      "F:\\Research\\Research_Cooperation\\ILRI_Mosquito_Mapping\\Hanoi_Extent.prj\n",
      "F:\\Research\\Research_Cooperation\\ILRI_Mosquito_Mapping\\Hanoi_Extent.qpj\n",
      "F:\\Research\\Research_Cooperation\\ILRI_Mosquito_Mapping\\Hanoi_Extent.shp\n",
      "F:\\Research\\Research_Cooperation\\ILRI_Mosquito_Mapping\\Hanoi_Extent.shx\n",
      "F:\\Research\\Research_Cooperation\\ILRI_Mosquito_Mapping\\Hanoi_Extent_bk.json\n",
      "F:\\Research\\Research_Cooperation\\ILRI_Mosquito_Mapping\\ketqua.cpg\n",
      "F:\\Research\\Research_Cooperation\\ILRI_Mosquito_Mapping\\ketqua.dbf\n",
      "F:\\Research\\Research_Cooperation\\ILRI_Mosquito_Mapping\\ketqua.prj\n",
      "F:\\Research\\Research_Cooperation\\ILRI_Mosquito_Mapping\\ketqua.shp\n",
      "F:\\Research\\Research_Cooperation\\ILRI_Mosquito_Mapping\\ketqua.shx\n",
      "F:\\Research\\Research_Cooperation\\ILRI_Mosquito_Mapping\\Landsat Data Discussion.docx\n",
      "F:\\Research\\Research_Cooperation\\ILRI_Mosquito_Mapping\\Land_Cover.qgz\n",
      "F:\\Research\\Research_Cooperation\\ILRI_Mosquito_Mapping\\Mapping the spatial patterns and associated ecological risk factors of viral encephalitis using time.docx\n",
      "F:\\Research\\Research_Cooperation\\ILRI_Mosquito_Mapping\\Mosquito Mapping.docx\n",
      "F:\\Research\\Research_Cooperation\\ILRI_Mosquito_Mapping\\Mosquito_LS.tif\n",
      "F:\\Research\\Research_Cooperation\\ILRI_Mosquito_Mapping\\MyFinal.csv\n",
      "F:\\Research\\Research_Cooperation\\ILRI_Mosquito_Mapping\\output.tif\n",
      "F:\\Research\\Research_Cooperation\\ILRI_Mosquito_Mapping\\Pics_Demo.docx\n",
      "F:\\Research\\Research_Cooperation\\ILRI_Mosquito_Mapping\\QGIS_Map.qgz\n",
      "F:\\Research\\Research_Cooperation\\ILRI_Mosquito_Mapping\\R_Map.nb.html\n",
      "F:\\Research\\Research_Cooperation\\ILRI_Mosquito_Mapping\\R_Map.Rmd\n",
      "F:\\Research\\Research_Cooperation\\ILRI_Mosquito_Mapping\\Samples_Filter.cpg\n",
      "F:\\Research\\Research_Cooperation\\ILRI_Mosquito_Mapping\\Samples_Filter.dbf\n",
      "F:\\Research\\Research_Cooperation\\ILRI_Mosquito_Mapping\\Samples_Filter.prj\n",
      "F:\\Research\\Research_Cooperation\\ILRI_Mosquito_Mapping\\Samples_Filter.shp\n",
      "F:\\Research\\Research_Cooperation\\ILRI_Mosquito_Mapping\\Samples_Filter.shx\n",
      "F:\\Research\\Research_Cooperation\\ILRI_Mosquito_Mapping\\Seasonality of Mosquito distribution in China.pdf\n",
      "F:\\Research\\Research_Cooperation\\ILRI_Mosquito_Mapping\\Study_Area.png\n",
      "F:\\Research\\Research_Cooperation\\ILRI_Mosquito_Mapping\\SUMMARY OF MEETING21.09.2020.docx\n",
      "F:\\Research\\Research_Cooperation\\ILRI_Mosquito_Mapping\\UTM_Shapefile.cpg\n",
      "F:\\Research\\Research_Cooperation\\ILRI_Mosquito_Mapping\\UTM_Shapefile.dbf\n",
      "F:\\Research\\Research_Cooperation\\ILRI_Mosquito_Mapping\\UTM_Shapefile.prj\n",
      "F:\\Research\\Research_Cooperation\\ILRI_Mosquito_Mapping\\UTM_Shapefile.qpj\n",
      "F:\\Research\\Research_Cooperation\\ILRI_Mosquito_Mapping\\UTM_Shapefile.shp\n",
      "F:\\Research\\Research_Cooperation\\ILRI_Mosquito_Mapping\\UTM_Shapefile.shx\n",
      "F:\\Research\\Research_Cooperation\\ILRI_Mosquito_Mapping\\VNM COD-AB 2020_01_07.pdf\n"
     ]
    }
   ],
   "source": [
    "class find_files(object):\n",
    "    def dirs(self, directory):\n",
    "        if os.path.exists(directory):\n",
    "            print(\"Yes\")\n",
    "            if os.path.isdir(directory):\n",
    "                listfiles=os.listdir(directory)\n",
    "                for files in listfiles:\n",
    "                    if os.path.isdir(os.path.join(directory,files)):\n",
    "                        pass\n",
    "                    elif os.path.isfile(os.path.join(directory,files)):\n",
    "                        print(os.path.join(directory,files))\n",
    "                    else:\n",
    "                        print(\"No files or directory\")\n",
    "            else:\n",
    "                print(\"Not directory\")\n",
    "        else:\n",
    "            print(\"No directory exists\")\n",
    "myclass=find_files()\n",
    "myclass.dirs(r\"F:\\Research\\Research_Cooperation\\ILRI_Mosquito_Mapping\")\n",
    "        "
   ]
  }
 ],
 "metadata": {
  "kernelspec": {
   "display_name": "Python 3 (ipykernel)",
   "language": "python",
   "name": "python3"
  },
  "language_info": {
   "codemirror_mode": {
    "name": "ipython",
    "version": 3
   },
   "file_extension": ".py",
   "mimetype": "text/x-python",
   "name": "python",
   "nbconvert_exporter": "python",
   "pygments_lexer": "ipython3",
   "version": "3.8.10"
  }
 },
 "nbformat": 4,
 "nbformat_minor": 4
}
