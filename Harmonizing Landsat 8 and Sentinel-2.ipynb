{
 "cells": [
  {
   "cell_type": "markdown",
   "id": "45bb6c06",
   "metadata": {},
   "source": [
    "### Harmonizing Sentinel-2 TOA level 1-C and Landsat TOA level 1-C\n",
    "\n",
    "This notebook aims to harmonize the Landsat TOA level 1-C and Sentinel-2 TOA level 1-C to make a denser series of Landsat or Sentinel datasets. <br>\n",
    "The process follows the code shared by Minh at [link](https://github.com/ndminhhus/geeguide) and and NASA HLS project [link](https://lpdaac.usgs.gov/products/hlss30v002/). The process involves atmospheric correction, cloud masking, bandpass adjustment, etc."
   ]
  },
  {
   "cell_type": "code",
   "execution_count": 76,
   "id": "2cbee02a",
   "metadata": {},
   "outputs": [],
   "source": [
    "import ee\n",
    "import geemap as emap\n",
    "import datetime"
   ]
  },
  {
   "cell_type": "code",
   "execution_count": 77,
   "id": "e7189c26",
   "metadata": {},
   "outputs": [
    {
     "data": {
      "text/html": [
       "<p>To authorize access needed by Earth Engine, open the following\n",
       "        URL in a web browser and follow the instructions:</p>\n",
       "        <p><a href=https://accounts.google.com/o/oauth2/auth?client_id=517222506229-vsmmajv00ul0bs7p89v5m89qs8eb9359.apps.googleusercontent.com&scope=https%3A%2F%2Fwww.googleapis.com%2Fauth%2Fearthengine+https%3A%2F%2Fwww.googleapis.com%2Fauth%2Fdevstorage.full_control&redirect_uri=urn%3Aietf%3Awg%3Aoauth%3A2.0%3Aoob&response_type=code&code_challenge=OGP5ULm6T07Sj_ld-WQ6IEqZx5wZoiSmpP1_Ve7IRa8&code_challenge_method=S256>https://accounts.google.com/o/oauth2/auth?client_id=517222506229-vsmmajv00ul0bs7p89v5m89qs8eb9359.apps.googleusercontent.com&scope=https%3A%2F%2Fwww.googleapis.com%2Fauth%2Fearthengine+https%3A%2F%2Fwww.googleapis.com%2Fauth%2Fdevstorage.full_control&redirect_uri=urn%3Aietf%3Awg%3Aoauth%3A2.0%3Aoob&response_type=code&code_challenge=OGP5ULm6T07Sj_ld-WQ6IEqZx5wZoiSmpP1_Ve7IRa8&code_challenge_method=S256</a></p>\n",
       "        <p>The authorization workflow will generate a code, which you\n",
       "        should paste in the box below</p>\n",
       "        "
      ],
      "text/plain": [
       "<IPython.core.display.HTML object>"
      ]
     },
     "metadata": {},
     "output_type": "display_data"
    },
    {
     "name": "stdout",
     "output_type": "stream",
     "text": [
      "Enter verification code: 4/1AX4XfWi1siDn-FpWQJQhGHezEf-nxVrFGF1iKSRay9UyDbTsrS0WI5wvxpg\n",
      "\n",
      "Successfully saved authorization token.\n"
     ]
    }
   ],
   "source": [
    "ee.Initialize()\n",
    "ee.Authenticate()"
   ]
  },
  {
   "cell_type": "code",
   "execution_count": 78,
   "id": "0e9d4453",
   "metadata": {},
   "outputs": [],
   "source": [
    "Map=emap.Map()"
   ]
  },
  {
   "cell_type": "markdown",
   "id": "404ee8f3",
   "metadata": {},
   "source": [
    "## 1. Landsat 8 TOA Level 1C"
   ]
  },
  {
   "cell_type": "code",
   "execution_count": 79,
   "id": "be42c46d",
   "metadata": {},
   "outputs": [],
   "source": [
    "# Get the boundary of Vietnam\n",
    "vn=ee.FeatureCollection(\"users/miketu72/VN_Map\")\n",
    "# Get the Landsat 8 image collection\n",
    "ls8=ee.ImageCollection(\"LANDSAT/LC08/C02/T1_TOA\").filter(ee.Filter.calendarRange(2015,2021,\"year\")).filterBounds(vn)"
   ]
  },
  {
   "cell_type": "code",
   "execution_count": 80,
   "id": "a17e3304",
   "metadata": {},
   "outputs": [],
   "source": [
    "image=ls8.first()"
   ]
  },
  {
   "cell_type": "code",
   "execution_count": 81,
   "id": "f49339b0",
   "metadata": {},
   "outputs": [
    {
     "data": {
      "application/vnd.jupyter.widget-view+json": {
       "model_id": "7c3d1b9483d64e07accd9f7e919cc9db",
       "version_major": 2,
       "version_minor": 0
      },
      "text/plain": [
       "Map(center=[40, -100], controls=(WidgetControl(options=['position', 'transparent_bg'], widget=HBox(children=(T…"
      ]
     },
     "metadata": {},
     "output_type": "display_data"
    }
   ],
   "source": [
    "Map.addLayer(image,{},\"Image\")\n",
    "Map"
   ]
  },
  {
   "cell_type": "code",
   "execution_count": null,
   "id": "dd4d60ad",
   "metadata": {},
   "outputs": [],
   "source": []
  }
 ],
 "metadata": {
  "kernelspec": {
   "display_name": "Python 3 (ipykernel)",
   "language": "python",
   "name": "python3"
  },
  "language_info": {
   "codemirror_mode": {
    "name": "ipython",
    "version": 3
   },
   "file_extension": ".py",
   "mimetype": "text/x-python",
   "name": "python",
   "nbconvert_exporter": "python",
   "pygments_lexer": "ipython3",
   "version": "3.8.10"
  }
 },
 "nbformat": 4,
 "nbformat_minor": 5
}
