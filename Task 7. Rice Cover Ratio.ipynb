{
 "cells": [
  {
   "cell_type": "code",
   "execution_count": 1,
   "metadata": {},
   "outputs": [],
   "source": [
    "import numpy as np\n",
    "import gdal\n",
    "import os \n",
    "import time\n",
    "%matplotlib inline"
   ]
  },
  {
   "cell_type": "markdown",
   "metadata": {},
   "source": [
    "### Read raster data in Python"
   ]
  },
  {
   "cell_type": "code",
   "execution_count": 14,
   "metadata": {},
   "outputs": [
    {
     "data": {
      "text/plain": [
       "array([[-2147483648, -2147483648, -2147483648, ..., -2147483648,\n",
       "        -2147483648, -2147483648],\n",
       "       [-2147483648, -2147483648, -2147483648, ..., -2147483648,\n",
       "        -2147483648, -2147483648],\n",
       "       [-2147483648, -2147483648, -2147483648, ..., -2147483648,\n",
       "        -2147483648, -2147483648],\n",
       "       ...,\n",
       "       [-2147483648, -2147483648, -2147483648, ..., -2147483648,\n",
       "        -2147483648, -2147483648],\n",
       "       [-2147483648, -2147483648, -2147483648, ..., -2147483648,\n",
       "        -2147483648, -2147483648],\n",
       "       [-2147483648, -2147483648, -2147483648, ..., -2147483648,\n",
       "        -2147483648, -2147483648]])"
      ]
     },
     "execution_count": 14,
     "metadata": {},
     "output_type": "execute_result"
    }
   ],
   "source": [
    "# Using gdal library to read raster data\n",
    "path=r\"F:\\Research\\Research_Cooperation\\ILRI_Mosquito_Mapping\\Mosquito\\Mosquito_Test1\"\n",
    "\n",
    "img=gdal.Open(os.path.join(path,\"Landcover.tif\"))\n",
    "# Read raster as array numpy\n",
    "np_array=img.ReadAsArray().astype(\"int32\")\n",
    "np_array"
   ]
  },
  {
   "cell_type": "code",
   "execution_count": 11,
   "metadata": {},
   "outputs": [],
   "source": [
    "def xulynegative(x):\n",
    "    if x-6<0:\n",
    "        return 0\n",
    "    else:\n",
    "        return x-6\n",
    "\n",
    "def xulypositive(x,xmax):\n",
    "    if x+6>xmax:\n",
    "        return xmax\n",
    "    else:\n",
    "        return x+6\n",
    "\n",
    "def get_pixel_datlua(unique,counts):\n",
    "    zip_iterator=zip(list(unique),list(counts))\n",
    "    mydict=dict(zip_iterator)\n",
    "    return mydict[2]"
   ]
  },
  {
   "cell_type": "code",
   "execution_count": 12,
   "metadata": {},
   "outputs": [
    {
     "name": "stdout",
     "output_type": "stream",
     "text": [
      "--- 480.2355623245239 seconds ---\n"
     ]
    }
   ],
   "source": [
    "start_time = time.time()\n",
    "numpy_result = np.zeros(np_array.shape)\n",
    "\n",
    "for x in range(len(np_array)):\n",
    "    for y in range(len(np_array[x])):\n",
    "     \n",
    "        if np_array[x,y] ==0:\n",
    "            pass\n",
    "        else:\n",
    "            xmax,ymax = np_array.shape\n",
    "            subset = np_array[xulynegative(x):xulypositive(x,xmax),xulynegative(y):xulypositive(y,ymax)]\n",
    "            unique, counts = np.unique(subset,return_counts=True)\n",
    "            try:\n",
    "                ketqua = get_pixel_datlua(unique, counts)/subset.size\n",
    "            except:\n",
    "                ketqua = 0\n",
    "\n",
    "            numpy_result[x,y] = ketqua\n",
    "print(\"--- %s seconds ---\" % (time.time() - start_time))"
   ]
  },
  {
   "cell_type": "code",
   "execution_count": 13,
   "metadata": {},
   "outputs": [],
   "source": [
    "fn = r'F:\\Research\\Research_Cooperation\\ILRI_Mosquito_Mapping\\Mosquito\\Test\\Rice_trash.tif'\n",
    "driver = img.GetDriver()\n",
    "ds = driver.Create(fn, xsize=np_array.shape[1], ysize=np_array.shape[0], bands=1, eType=gdal.GDT_Float32)\n",
    "ds.SetGeoTransform(img.GetGeoTransform())\n",
    "ds.SetProjection(img.GetProjection())\n",
    "ds.GetRasterBand(1).WriteArray(numpy_result)\n",
    "ds = None"
   ]
  }
 ],
 "metadata": {
  "kernelspec": {
   "display_name": "Python 3 (ipykernel)",
   "language": "python",
   "name": "python3"
  },
  "language_info": {
   "codemirror_mode": {
    "name": "ipython",
    "version": 3
   },
   "file_extension": ".py",
   "mimetype": "text/x-python",
   "name": "python",
   "nbconvert_exporter": "python",
   "pygments_lexer": "ipython3",
   "version": "3.8.10"
  }
 },
 "nbformat": 4,
 "nbformat_minor": 4
}
