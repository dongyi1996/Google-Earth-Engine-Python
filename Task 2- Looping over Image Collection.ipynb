{
 "cells": [
  {
   "cell_type": "markdown",
   "metadata": {},
   "source": [
    "# Looping over Image Collection"
   ]
  },
  {
   "cell_type": "code",
   "execution_count": null,
   "metadata": {},
   "outputs": [],
   "source": [
    "import ee\n",
    "import os\n",
    "import geemap as emap\n",
    "try:\n",
    "    ee.Initialize()\n",
    "except Exception as e:\n",
    "    ee.Authenticate()\n",
    "    ee.Initialize()"
   ]
  },
  {
   "cell_type": "markdown",
   "metadata": {},
   "source": [
    "### 1. Initialize the basemap"
   ]
  },
  {
   "cell_type": "code",
   "execution_count": 6,
   "metadata": {},
   "outputs": [
    {
     "data": {
      "application/vnd.jupyter.widget-view+json": {
       "model_id": "d4ea304a4e0149199d692607e03f6be5",
       "version_major": 2,
       "version_minor": 0
      },
      "text/plain": [
       "Map(center=[40, -100], controls=(WidgetControl(options=['position'], widget=HBox(children=(ToggleButton(value=…"
      ]
     },
     "metadata": {},
     "output_type": "display_data"
    }
   ],
   "source": [
    "Map = emap.Map()\n",
    "Map"
   ]
  },
  {
   "cell_type": "markdown",
   "metadata": {},
   "source": [
    "### 2. Get Landsat 8 T1 TOA and HN boundary"
   ]
  },
  {
   "cell_type": "code",
   "execution_count": 13,
   "metadata": {},
   "outputs": [
    {
     "name": "stdout",
     "output_type": "stream",
     "text": [
      "66\n"
     ]
    }
   ],
   "source": [
    "LS=ee.ImageCollection(\"LANDSAT/LC08/C01/T1_TOA\").filterDate(\"2019-01-01\",\"2019-12-31\")\n",
    "HN=ee.FeatureCollection(\"users/havantuyen/Hanoi_Extent\")\n",
    "LS_HN=LS.filterBounds(HN)\n",
    "print(LS_HN.size().getInfo())"
   ]
  },
  {
   "cell_type": "markdown",
   "metadata": {},
   "source": [
    "### 3. Print all image ID available "
   ]
  },
  {
   "cell_type": "code",
   "execution_count": 14,
   "metadata": {},
   "outputs": [
    {
     "name": "stdout",
     "output_type": "stream",
     "text": [
      "LC08_127045_20190202\n",
      "LC08_127046_20190202\n",
      "LC08_127045_20190218\n",
      "LC08_127046_20190218\n",
      "LC08_127046_20190306\n",
      "LC08_127045_20190322\n",
      "LC08_127046_20190322\n",
      "LC08_126045_20190331\n",
      "LC08_127045_20190407\n",
      "LC08_127046_20190407\n",
      "LC08_127045_20190423\n",
      "LC08_127046_20190423\n",
      "LC08_126045_20190502\n",
      "LC08_126045_20190518\n",
      "LC08_126046_20190518\n",
      "LC08_127045_20190525\n",
      "LC08_127046_20190525\n",
      "LC08_126045_20190603\n",
      "LC08_126046_20190603\n",
      "LC08_127045_20190610\n",
      "LC08_127046_20190610\n",
      "LC08_126045_20190619\n",
      "LC08_126046_20190619\n",
      "LC08_127045_20190626\n",
      "LC08_127046_20190626\n",
      "LC08_126045_20190705\n",
      "LC08_126046_20190705\n",
      "LC08_127045_20190712\n",
      "LC08_127046_20190712\n",
      "LC08_126045_20190721\n",
      "LC08_126046_20190721\n",
      "LC08_127045_20190728\n",
      "LC08_127046_20190728\n",
      "LC08_126045_20190806\n",
      "LC08_126046_20190806\n",
      "LC08_127045_20190813\n",
      "LC08_127046_20190813\n",
      "LC08_126045_20190822\n",
      "LC08_126046_20190822\n",
      "LC08_127045_20190829\n",
      "LC08_127046_20190829\n",
      "LC08_126045_20190907\n",
      "LC08_126046_20190907\n",
      "LC08_127045_20190914\n",
      "LC08_127046_20190914\n",
      "LC08_126045_20190923\n",
      "LC08_126046_20190923\n",
      "LC08_127045_20190930\n",
      "LC08_127046_20190930\n",
      "LC08_126045_20191009\n",
      "LC08_127045_20191016\n",
      "LC08_127046_20191016\n",
      "LC08_126045_20191025\n",
      "LC08_126046_20191025\n",
      "LC08_126045_20191110\n",
      "LC08_126046_20191110\n",
      "LC08_127045_20191117\n",
      "LC08_127046_20191117\n",
      "LC08_126045_20191126\n",
      "LC08_127045_20191203\n",
      "LC08_127046_20191203\n",
      "LC08_126045_20191212\n",
      "LC08_126046_20191212\n",
      "LC08_127045_20191219\n",
      "LC08_127046_20191219\n",
      "LC08_126046_20191228\n"
     ]
    }
   ],
   "source": [
    "collection=LS_HN.sort(\"system:time_start\").aggregate_array(\"system:index\").getInfo()\n",
    "container=[]\n",
    "for i in collection:\n",
    "    container.append(i)\n",
    "    print(i)"
   ]
  },
  {
   "cell_type": "markdown",
   "metadata": {},
   "source": [
    "### 4. Print all cloud percent images"
   ]
  },
  {
   "cell_type": "code",
   "execution_count": 16,
   "metadata": {},
   "outputs": [
    {
     "name": "stdout",
     "output_type": "stream",
     "text": [
      "LC08_127045_20190202 Cloud Percent is 91.72000122070312\n",
      "LC08_127046_20190202 Cloud Percent is 66.06999969482422\n",
      "LC08_127045_20190218 Cloud Percent is 28.700000762939453\n",
      "LC08_127046_20190218 Cloud Percent is 20.059999465942383\n",
      "LC08_127046_20190306 Cloud Percent is 70.12999725341797\n",
      "LC08_127045_20190322 Cloud Percent is 33.66999816894531\n",
      "LC08_127046_20190322 Cloud Percent is 25.229999542236328\n",
      "LC08_126045_20190331 Cloud Percent is 68.2300033569336\n",
      "LC08_127045_20190407 Cloud Percent is 73.01000213623047\n",
      "LC08_127046_20190407 Cloud Percent is 38.81999969482422\n",
      "LC08_127045_20190423 Cloud Percent is 87.29000091552734\n",
      "LC08_127046_20190423 Cloud Percent is 83.08999633789062\n",
      "LC08_126045_20190502 Cloud Percent is 62.060001373291016\n",
      "LC08_126045_20190518 Cloud Percent is 13.260000228881836\n",
      "LC08_126046_20190518 Cloud Percent is 4.46999979019165\n",
      "LC08_127045_20190525 Cloud Percent is 46.4900016784668\n",
      "LC08_127046_20190525 Cloud Percent is 14.460000038146973\n",
      "LC08_126045_20190603 Cloud Percent is 76.75\n",
      "LC08_126046_20190603 Cloud Percent is 82.12000274658203\n",
      "LC08_127045_20190610 Cloud Percent is 89.45999908447266\n",
      "LC08_127046_20190610 Cloud Percent is 44.119998931884766\n",
      "LC08_126045_20190619 Cloud Percent is 75.76000213623047\n",
      "LC08_126046_20190619 Cloud Percent is 21.389999389648438\n",
      "LC08_127045_20190626 Cloud Percent is 36.68000030517578\n",
      "LC08_127046_20190626 Cloud Percent is 34.79999923706055\n",
      "LC08_126045_20190705 Cloud Percent is 61.810001373291016\n",
      "LC08_126046_20190705 Cloud Percent is 16.700000762939453\n",
      "LC08_127045_20190712 Cloud Percent is 95.0199966430664\n",
      "LC08_127046_20190712 Cloud Percent is 70.16999816894531\n",
      "LC08_126045_20190721 Cloud Percent is 59.709999084472656\n",
      "LC08_126046_20190721 Cloud Percent is 54.16999816894531\n",
      "LC08_127045_20190728 Cloud Percent is 40.65999984741211\n",
      "LC08_127046_20190728 Cloud Percent is 33.380001068115234\n",
      "LC08_126045_20190806 Cloud Percent is 23.389999389648438\n",
      "LC08_126046_20190806 Cloud Percent is 18.299999237060547\n",
      "LC08_127045_20190813 Cloud Percent is 9.529999732971191\n",
      "LC08_127046_20190813 Cloud Percent is 64.93000030517578\n",
      "LC08_126045_20190822 Cloud Percent is 93.08000183105469\n",
      "LC08_126046_20190822 Cloud Percent is 90.20999908447266\n",
      "LC08_127045_20190829 Cloud Percent is 24.510000228881836\n",
      "LC08_127046_20190829 Cloud Percent is 84.2699966430664\n",
      "LC08_126045_20190907 Cloud Percent is 21.5\n",
      "LC08_126046_20190907 Cloud Percent is 8.15999984741211\n",
      "LC08_127045_20190914 Cloud Percent is 8.710000038146973\n",
      "LC08_127046_20190914 Cloud Percent is 10.699999809265137\n",
      "LC08_126045_20190923 Cloud Percent is 0\n",
      "LC08_126046_20190923 Cloud Percent is 1.6699999570846558\n",
      "LC08_127045_20190930 Cloud Percent is 0.11999999731779099\n",
      "LC08_127046_20190930 Cloud Percent is 0.949999988079071\n",
      "LC08_126045_20191009 Cloud Percent is 66.37000274658203\n",
      "LC08_127045_20191016 Cloud Percent is 78.43000030517578\n",
      "LC08_127046_20191016 Cloud Percent is 77.36000061035156\n",
      "LC08_126045_20191025 Cloud Percent is 90.9800033569336\n",
      "LC08_126046_20191025 Cloud Percent is 25.479999542236328\n",
      "LC08_126045_20191110 Cloud Percent is 0.3499999940395355\n",
      "LC08_126046_20191110 Cloud Percent is 0.9300000071525574\n",
      "LC08_127045_20191117 Cloud Percent is 61.849998474121094\n",
      "LC08_127046_20191117 Cloud Percent is 27.75\n",
      "LC08_126045_20191126 Cloud Percent is 70.16000366210938\n",
      "LC08_127045_20191203 Cloud Percent is 10.460000038146973\n",
      "LC08_127046_20191203 Cloud Percent is 43.13999938964844\n",
      "LC08_126045_20191212 Cloud Percent is 0.10999999940395355\n",
      "LC08_126046_20191212 Cloud Percent is 5.139999866485596\n",
      "LC08_127045_20191219 Cloud Percent is 72.30000305175781\n",
      "LC08_127046_20191219 Cloud Percent is 67.9000015258789\n",
      "LC08_126046_20191228 Cloud Percent is 82.91000366210938\n"
     ]
    }
   ],
   "source": [
    "for i in container:\n",
    "    myfile=os.path.join(\"LANDSAT/LC08/C01/T1_TOA\",i).replace(\"\\\\\",\"/\")\n",
    "    myimage=ee.Image(myfile)\n",
    "    print(i,\"Cloud Percent is\",myimage.get(\"CLOUD_COVER\").getInfo())"
   ]
  },
  {
   "cell_type": "code",
   "execution_count": null,
   "metadata": {},
   "outputs": [],
   "source": []
  }
 ],
 "metadata": {
  "kernelspec": {
   "display_name": "Python 3",
   "language": "python",
   "name": "python3"
  },
  "language_info": {
   "codemirror_mode": {
    "name": "ipython",
    "version": 3
   },
   "file_extension": ".py",
   "mimetype": "text/x-python",
   "name": "python",
   "nbconvert_exporter": "python",
   "pygments_lexer": "ipython3",
   "version": "3.8.5"
  }
 },
 "nbformat": 4,
 "nbformat_minor": 4
}
