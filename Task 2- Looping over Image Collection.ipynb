{
 "cells": [
  {
   "cell_type": "markdown",
   "metadata": {},
   "source": [
    "# Looping over Image Collection"
   ]
  },
  {
   "cell_type": "code",
   "execution_count": null,
   "metadata": {},
   "outputs": [],
   "source": [
    "import ee\n",
    "import os\n",
    "import geemap as emap\n",
    "try:\n",
    "    ee.Initialize()\n",
    "except Exception as e:\n",
    "    ee.Authenticate()\n",
    "    ee.Initialize()"
   ]
  },
  {
   "cell_type": "code",
   "execution_count": 6,
   "metadata": {},
   "outputs": [
    {
     "data": {
      "application/vnd.jupyter.widget-view+json": {
       "model_id": "d4ea304a4e0149199d692607e03f6be5",
       "version_major": 2,
       "version_minor": 0
      },
      "text/plain": [
       "Map(center=[40, -100], controls=(WidgetControl(options=['position'], widget=HBox(children=(ToggleButton(value=…"
      ]
     },
     "metadata": {},
     "output_type": "display_data"
    }
   ],
   "source": [
    "Map = emap.Map()\n",
    "Map"
   ]
  },
  {
   "cell_type": "code",
   "execution_count": 9,
   "metadata": {},
   "outputs": [
    {
     "name": "stdout",
     "output_type": "stream",
     "text": [
      "66\n",
      "LC08_127045_20190202\n",
      "LC08_127046_20190202\n",
      "LC08_127045_20190218\n",
      "LC08_127046_20190218\n",
      "LC08_127046_20190306\n",
      "LC08_127045_20190322\n",
      "LC08_127046_20190322\n",
      "LC08_126045_20190331\n",
      "LC08_127045_20190407\n",
      "LC08_127046_20190407\n",
      "LC08_127045_20190423\n",
      "LC08_127046_20190423\n",
      "LC08_126045_20190502\n",
      "LC08_126045_20190518\n",
      "LC08_126046_20190518\n",
      "LC08_127045_20190525\n",
      "LC08_127046_20190525\n",
      "LC08_126045_20190603\n",
      "LC08_126046_20190603\n",
      "LC08_127045_20190610\n",
      "LC08_127046_20190610\n",
      "LC08_126045_20190619\n",
      "LC08_126046_20190619\n",
      "LC08_127045_20190626\n",
      "LC08_127046_20190626\n",
      "LC08_126045_20190705\n",
      "LC08_126046_20190705\n",
      "LC08_127045_20190712\n",
      "LC08_127046_20190712\n",
      "LC08_126045_20190721\n",
      "LC08_126046_20190721\n",
      "LC08_127045_20190728\n",
      "LC08_127046_20190728\n",
      "LC08_126045_20190806\n",
      "LC08_126046_20190806\n",
      "LC08_127045_20190813\n",
      "LC08_127046_20190813\n",
      "LC08_126045_20190822\n",
      "LC08_126046_20190822\n",
      "LC08_127045_20190829\n",
      "LC08_127046_20190829\n",
      "LC08_126045_20190907\n",
      "LC08_126046_20190907\n",
      "LC08_127045_20190914\n",
      "LC08_127046_20190914\n",
      "LC08_126045_20190923\n",
      "LC08_126046_20190923\n",
      "LC08_127045_20190930\n",
      "LC08_127046_20190930\n",
      "LC08_126045_20191009\n",
      "LC08_127045_20191016\n",
      "LC08_127046_20191016\n",
      "LC08_126045_20191025\n",
      "LC08_126046_20191025\n",
      "LC08_126045_20191110\n",
      "LC08_126046_20191110\n",
      "LC08_127045_20191117\n",
      "LC08_127046_20191117\n",
      "LC08_126045_20191126\n",
      "LC08_127045_20191203\n",
      "LC08_127046_20191203\n",
      "LC08_126045_20191212\n",
      "LC08_126046_20191212\n",
      "LC08_127045_20191219\n",
      "LC08_127046_20191219\n",
      "LC08_126046_20191228\n"
     ]
    }
   ],
   "source": [
    "LS=ee.ImageCollection(\"LANDSAT/LC08/C01/T1_TOA\").filterDate(\"2019-01-01\",\"2019-12-31\")\n",
    "HN=ee.FeatureCollection(\"users/havantuyen/Hanoi_Extent\")\n",
    "LS_HN=LS.filterBounds(HN)\n",
    "print(LS_HN.size().getInfo())\n",
    "\n",
    "collection=LS_HN.sort(\"system:time_start\").aggregate_array(\"system:index\").getInfo()\n",
    "container=[]\n",
    "for i in collection:\n",
    "    container.append(i)\n",
    "    print(i)"
   ]
  },
  {
   "cell_type": "code",
   "execution_count": 12,
   "metadata": {},
   "outputs": [
    {
     "name": "stdout",
     "output_type": "stream",
     "text": [
      "Cloud Cover is 91.72000122070312\n",
      "Cloud Cover is 66.06999969482422\n",
      "Cloud Cover is 28.700000762939453\n",
      "Cloud Cover is 20.059999465942383\n",
      "Cloud Cover is 70.12999725341797\n",
      "Cloud Cover is 33.66999816894531\n",
      "Cloud Cover is 25.229999542236328\n",
      "Cloud Cover is 68.2300033569336\n",
      "Cloud Cover is 73.01000213623047\n",
      "Cloud Cover is 38.81999969482422\n",
      "Cloud Cover is 87.29000091552734\n",
      "Cloud Cover is 83.08999633789062\n",
      "Cloud Cover is 62.060001373291016\n",
      "Cloud Cover is 13.260000228881836\n",
      "Cloud Cover is 4.46999979019165\n",
      "Cloud Cover is 46.4900016784668\n",
      "Cloud Cover is 14.460000038146973\n",
      "Cloud Cover is 76.75\n",
      "Cloud Cover is 82.12000274658203\n",
      "Cloud Cover is 89.45999908447266\n",
      "Cloud Cover is 44.119998931884766\n",
      "Cloud Cover is 75.76000213623047\n",
      "Cloud Cover is 21.389999389648438\n",
      "Cloud Cover is 36.68000030517578\n",
      "Cloud Cover is 34.79999923706055\n",
      "Cloud Cover is 61.810001373291016\n",
      "Cloud Cover is 16.700000762939453\n",
      "Cloud Cover is 95.0199966430664\n",
      "Cloud Cover is 70.16999816894531\n",
      "Cloud Cover is 59.709999084472656\n",
      "Cloud Cover is 54.16999816894531\n",
      "Cloud Cover is 40.65999984741211\n",
      "Cloud Cover is 33.380001068115234\n",
      "Cloud Cover is 23.389999389648438\n",
      "Cloud Cover is 18.299999237060547\n",
      "Cloud Cover is 9.529999732971191\n",
      "Cloud Cover is 64.93000030517578\n",
      "Cloud Cover is 93.08000183105469\n",
      "Cloud Cover is 90.20999908447266\n",
      "Cloud Cover is 24.510000228881836\n",
      "Cloud Cover is 84.2699966430664\n",
      "Cloud Cover is 21.5\n",
      "Cloud Cover is 8.15999984741211\n",
      "Cloud Cover is 8.710000038146973\n",
      "Cloud Cover is 10.699999809265137\n",
      "Cloud Cover is 0\n",
      "Cloud Cover is 1.6699999570846558\n",
      "Cloud Cover is 0.11999999731779099\n",
      "Cloud Cover is 0.949999988079071\n",
      "Cloud Cover is 66.37000274658203\n",
      "Cloud Cover is 78.43000030517578\n",
      "Cloud Cover is 77.36000061035156\n",
      "Cloud Cover is 90.9800033569336\n",
      "Cloud Cover is 25.479999542236328\n",
      "Cloud Cover is 0.3499999940395355\n",
      "Cloud Cover is 0.9300000071525574\n",
      "Cloud Cover is 61.849998474121094\n",
      "Cloud Cover is 27.75\n",
      "Cloud Cover is 70.16000366210938\n",
      "Cloud Cover is 10.460000038146973\n",
      "Cloud Cover is 43.13999938964844\n",
      "Cloud Cover is 0.10999999940395355\n",
      "Cloud Cover is 5.139999866485596\n",
      "Cloud Cover is 72.30000305175781\n",
      "Cloud Cover is 67.9000015258789\n",
      "Cloud Cover is 82.91000366210938\n"
     ]
    }
   ],
   "source": [
    "for i in container:\n",
    "    myfile=os.path.join(\"LANDSAT/LC08/C01/T1_TOA\",i).replace(\"\\\\\",\"/\")\n",
    "    myimage=ee.Image(myfile)\n",
    "    print(\"Cloud Cover is\",myimage.get(\"CLOUD_COVER\").getInfo())\n"
   ]
  },
  {
   "cell_type": "code",
   "execution_count": null,
   "metadata": {},
   "outputs": [],
   "source": []
  }
 ],
 "metadata": {
  "kernelspec": {
   "display_name": "Python 3",
   "language": "python",
   "name": "python3"
  },
  "language_info": {
   "codemirror_mode": {
    "name": "ipython",
    "version": 3
   },
   "file_extension": ".py",
   "mimetype": "text/x-python",
   "name": "python",
   "nbconvert_exporter": "python",
   "pygments_lexer": "ipython3",
   "version": "3.8.5"
  }
 },
 "nbformat": 4,
 "nbformat_minor": 4
}
